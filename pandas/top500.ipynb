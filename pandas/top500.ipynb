{
 "cells": [
  {
   "cell_type": "code",
   "execution_count": null,
   "metadata": {
    "pycharm": {
     "is_executing": true
    }
   },
   "outputs": [],
   "source": [
    "import pandas as pd\n",
    "import numpy as np\n",
    "from datetime import datetime\n",
    "%matplotlib inline"
   ]
  },
  {
   "cell_type": "code",
   "execution_count": 2,
   "metadata": {},
   "outputs": [
    {
     "ename": "FileNotFoundError",
     "evalue": "[Errno 2] No such file or directory: '../data/TOP500_history.csv'",
     "output_type": "error",
     "traceback": [
      "\u001B[0;31m---------------------------------------------------------------------------\u001B[0m",
      "\u001B[0;31mFileNotFoundError\u001B[0m                         Traceback (most recent call last)",
      "\u001B[0;32m<ipython-input-2-3440ebf050a7>\u001B[0m in \u001B[0;36m<module>\u001B[0;34m\u001B[0m\n\u001B[0;32m----> 1\u001B[0;31m \u001B[0mdf\u001B[0m \u001B[0;34m=\u001B[0m \u001B[0mpd\u001B[0m\u001B[0;34m.\u001B[0m\u001B[0mread_csv\u001B[0m\u001B[0;34m(\u001B[0m\u001B[0;34m\"../data/TOP500_history.csv\"\u001B[0m\u001B[0;34m)\u001B[0m\u001B[0;34m\u001B[0m\u001B[0;34m\u001B[0m\u001B[0m\n\u001B[0m",
      "\u001B[0;32m~/.local/lib/python3.8/site-packages/pandas/io/parsers.py\u001B[0m in \u001B[0;36mread_csv\u001B[0;34m(filepath_or_buffer, sep, delimiter, header, names, index_col, usecols, squeeze, prefix, mangle_dupe_cols, dtype, engine, converters, true_values, false_values, skipinitialspace, skiprows, skipfooter, nrows, na_values, keep_default_na, na_filter, verbose, skip_blank_lines, parse_dates, infer_datetime_format, keep_date_col, date_parser, dayfirst, cache_dates, iterator, chunksize, compression, thousands, decimal, lineterminator, quotechar, quoting, doublequote, escapechar, comment, encoding, dialect, error_bad_lines, warn_bad_lines, delim_whitespace, low_memory, memory_map, float_precision, storage_options)\u001B[0m\n\u001B[1;32m    603\u001B[0m     \u001B[0mkwds\u001B[0m\u001B[0;34m.\u001B[0m\u001B[0mupdate\u001B[0m\u001B[0;34m(\u001B[0m\u001B[0mkwds_defaults\u001B[0m\u001B[0;34m)\u001B[0m\u001B[0;34m\u001B[0m\u001B[0;34m\u001B[0m\u001B[0m\n\u001B[1;32m    604\u001B[0m \u001B[0;34m\u001B[0m\u001B[0m\n\u001B[0;32m--> 605\u001B[0;31m     \u001B[0;32mreturn\u001B[0m \u001B[0m_read\u001B[0m\u001B[0;34m(\u001B[0m\u001B[0mfilepath_or_buffer\u001B[0m\u001B[0;34m,\u001B[0m \u001B[0mkwds\u001B[0m\u001B[0;34m)\u001B[0m\u001B[0;34m\u001B[0m\u001B[0;34m\u001B[0m\u001B[0m\n\u001B[0m\u001B[1;32m    606\u001B[0m \u001B[0;34m\u001B[0m\u001B[0m\n\u001B[1;32m    607\u001B[0m \u001B[0;34m\u001B[0m\u001B[0m\n",
      "\u001B[0;32m~/.local/lib/python3.8/site-packages/pandas/io/parsers.py\u001B[0m in \u001B[0;36m_read\u001B[0;34m(filepath_or_buffer, kwds)\u001B[0m\n\u001B[1;32m    455\u001B[0m \u001B[0;34m\u001B[0m\u001B[0m\n\u001B[1;32m    456\u001B[0m     \u001B[0;31m# Create the parser.\u001B[0m\u001B[0;34m\u001B[0m\u001B[0;34m\u001B[0m\u001B[0;34m\u001B[0m\u001B[0m\n\u001B[0;32m--> 457\u001B[0;31m     \u001B[0mparser\u001B[0m \u001B[0;34m=\u001B[0m \u001B[0mTextFileReader\u001B[0m\u001B[0;34m(\u001B[0m\u001B[0mfilepath_or_buffer\u001B[0m\u001B[0;34m,\u001B[0m \u001B[0;34m**\u001B[0m\u001B[0mkwds\u001B[0m\u001B[0;34m)\u001B[0m\u001B[0;34m\u001B[0m\u001B[0;34m\u001B[0m\u001B[0m\n\u001B[0m\u001B[1;32m    458\u001B[0m \u001B[0;34m\u001B[0m\u001B[0m\n\u001B[1;32m    459\u001B[0m     \u001B[0;32mif\u001B[0m \u001B[0mchunksize\u001B[0m \u001B[0;32mor\u001B[0m \u001B[0miterator\u001B[0m\u001B[0;34m:\u001B[0m\u001B[0;34m\u001B[0m\u001B[0;34m\u001B[0m\u001B[0m\n",
      "\u001B[0;32m~/.local/lib/python3.8/site-packages/pandas/io/parsers.py\u001B[0m in \u001B[0;36m__init__\u001B[0;34m(self, f, engine, **kwds)\u001B[0m\n\u001B[1;32m    812\u001B[0m             \u001B[0mself\u001B[0m\u001B[0;34m.\u001B[0m\u001B[0moptions\u001B[0m\u001B[0;34m[\u001B[0m\u001B[0;34m\"has_index_names\"\u001B[0m\u001B[0;34m]\u001B[0m \u001B[0;34m=\u001B[0m \u001B[0mkwds\u001B[0m\u001B[0;34m[\u001B[0m\u001B[0;34m\"has_index_names\"\u001B[0m\u001B[0;34m]\u001B[0m\u001B[0;34m\u001B[0m\u001B[0;34m\u001B[0m\u001B[0m\n\u001B[1;32m    813\u001B[0m \u001B[0;34m\u001B[0m\u001B[0m\n\u001B[0;32m--> 814\u001B[0;31m         \u001B[0mself\u001B[0m\u001B[0;34m.\u001B[0m\u001B[0m_engine\u001B[0m \u001B[0;34m=\u001B[0m \u001B[0mself\u001B[0m\u001B[0;34m.\u001B[0m\u001B[0m_make_engine\u001B[0m\u001B[0;34m(\u001B[0m\u001B[0mself\u001B[0m\u001B[0;34m.\u001B[0m\u001B[0mengine\u001B[0m\u001B[0;34m)\u001B[0m\u001B[0;34m\u001B[0m\u001B[0;34m\u001B[0m\u001B[0m\n\u001B[0m\u001B[1;32m    815\u001B[0m \u001B[0;34m\u001B[0m\u001B[0m\n\u001B[1;32m    816\u001B[0m     \u001B[0;32mdef\u001B[0m \u001B[0mclose\u001B[0m\u001B[0;34m(\u001B[0m\u001B[0mself\u001B[0m\u001B[0;34m)\u001B[0m\u001B[0;34m:\u001B[0m\u001B[0;34m\u001B[0m\u001B[0;34m\u001B[0m\u001B[0m\n",
      "\u001B[0;32m~/.local/lib/python3.8/site-packages/pandas/io/parsers.py\u001B[0m in \u001B[0;36m_make_engine\u001B[0;34m(self, engine)\u001B[0m\n\u001B[1;32m   1043\u001B[0m             )\n\u001B[1;32m   1044\u001B[0m         \u001B[0;31m# error: Too many arguments for \"ParserBase\"\u001B[0m\u001B[0;34m\u001B[0m\u001B[0;34m\u001B[0m\u001B[0;34m\u001B[0m\u001B[0m\n\u001B[0;32m-> 1045\u001B[0;31m         \u001B[0;32mreturn\u001B[0m \u001B[0mmapping\u001B[0m\u001B[0;34m[\u001B[0m\u001B[0mengine\u001B[0m\u001B[0;34m]\u001B[0m\u001B[0;34m(\u001B[0m\u001B[0mself\u001B[0m\u001B[0;34m.\u001B[0m\u001B[0mf\u001B[0m\u001B[0;34m,\u001B[0m \u001B[0;34m**\u001B[0m\u001B[0mself\u001B[0m\u001B[0;34m.\u001B[0m\u001B[0moptions\u001B[0m\u001B[0;34m)\u001B[0m  \u001B[0;31m# type: ignore[call-arg]\u001B[0m\u001B[0;34m\u001B[0m\u001B[0;34m\u001B[0m\u001B[0m\n\u001B[0m\u001B[1;32m   1046\u001B[0m \u001B[0;34m\u001B[0m\u001B[0m\n\u001B[1;32m   1047\u001B[0m     \u001B[0;32mdef\u001B[0m \u001B[0m_failover_to_python\u001B[0m\u001B[0;34m(\u001B[0m\u001B[0mself\u001B[0m\u001B[0;34m)\u001B[0m\u001B[0;34m:\u001B[0m\u001B[0;34m\u001B[0m\u001B[0;34m\u001B[0m\u001B[0m\n",
      "\u001B[0;32m~/.local/lib/python3.8/site-packages/pandas/io/parsers.py\u001B[0m in \u001B[0;36m__init__\u001B[0;34m(self, src, **kwds)\u001B[0m\n\u001B[1;32m   1860\u001B[0m \u001B[0;34m\u001B[0m\u001B[0m\n\u001B[1;32m   1861\u001B[0m         \u001B[0;31m# open handles\u001B[0m\u001B[0;34m\u001B[0m\u001B[0;34m\u001B[0m\u001B[0;34m\u001B[0m\u001B[0m\n\u001B[0;32m-> 1862\u001B[0;31m         \u001B[0mself\u001B[0m\u001B[0;34m.\u001B[0m\u001B[0m_open_handles\u001B[0m\u001B[0;34m(\u001B[0m\u001B[0msrc\u001B[0m\u001B[0;34m,\u001B[0m \u001B[0mkwds\u001B[0m\u001B[0;34m)\u001B[0m\u001B[0;34m\u001B[0m\u001B[0;34m\u001B[0m\u001B[0m\n\u001B[0m\u001B[1;32m   1863\u001B[0m         \u001B[0;32massert\u001B[0m \u001B[0mself\u001B[0m\u001B[0;34m.\u001B[0m\u001B[0mhandles\u001B[0m \u001B[0;32mis\u001B[0m \u001B[0;32mnot\u001B[0m \u001B[0;32mNone\u001B[0m\u001B[0;34m\u001B[0m\u001B[0;34m\u001B[0m\u001B[0m\n\u001B[1;32m   1864\u001B[0m         \u001B[0;32mfor\u001B[0m \u001B[0mkey\u001B[0m \u001B[0;32min\u001B[0m \u001B[0;34m(\u001B[0m\u001B[0;34m\"storage_options\"\u001B[0m\u001B[0;34m,\u001B[0m \u001B[0;34m\"encoding\"\u001B[0m\u001B[0;34m,\u001B[0m \u001B[0;34m\"memory_map\"\u001B[0m\u001B[0;34m,\u001B[0m \u001B[0;34m\"compression\"\u001B[0m\u001B[0;34m)\u001B[0m\u001B[0;34m:\u001B[0m\u001B[0;34m\u001B[0m\u001B[0;34m\u001B[0m\u001B[0m\n",
      "\u001B[0;32m~/.local/lib/python3.8/site-packages/pandas/io/parsers.py\u001B[0m in \u001B[0;36m_open_handles\u001B[0;34m(self, src, kwds)\u001B[0m\n\u001B[1;32m   1355\u001B[0m         \u001B[0mLet\u001B[0m \u001B[0mthe\u001B[0m \u001B[0mreaders\u001B[0m \u001B[0mopen\u001B[0m \u001B[0mIOHanldes\u001B[0m \u001B[0mafter\u001B[0m \u001B[0mthey\u001B[0m \u001B[0mare\u001B[0m \u001B[0mdone\u001B[0m \u001B[0;32mwith\u001B[0m \u001B[0mtheir\u001B[0m \u001B[0mpotential\u001B[0m \u001B[0mraises\u001B[0m\u001B[0;34m.\u001B[0m\u001B[0;34m\u001B[0m\u001B[0;34m\u001B[0m\u001B[0m\n\u001B[1;32m   1356\u001B[0m         \"\"\"\n\u001B[0;32m-> 1357\u001B[0;31m         self.handles = get_handle(\n\u001B[0m\u001B[1;32m   1358\u001B[0m             \u001B[0msrc\u001B[0m\u001B[0;34m,\u001B[0m\u001B[0;34m\u001B[0m\u001B[0;34m\u001B[0m\u001B[0m\n\u001B[1;32m   1359\u001B[0m             \u001B[0;34m\"r\"\u001B[0m\u001B[0;34m,\u001B[0m\u001B[0;34m\u001B[0m\u001B[0;34m\u001B[0m\u001B[0m\n",
      "\u001B[0;32m~/.local/lib/python3.8/site-packages/pandas/io/common.py\u001B[0m in \u001B[0;36mget_handle\u001B[0;34m(path_or_buf, mode, encoding, compression, memory_map, is_text, errors, storage_options)\u001B[0m\n\u001B[1;32m    637\u001B[0m         \u001B[0;32mif\u001B[0m \u001B[0mioargs\u001B[0m\u001B[0;34m.\u001B[0m\u001B[0mencoding\u001B[0m \u001B[0;32mand\u001B[0m \u001B[0;34m\"b\"\u001B[0m \u001B[0;32mnot\u001B[0m \u001B[0;32min\u001B[0m \u001B[0mioargs\u001B[0m\u001B[0;34m.\u001B[0m\u001B[0mmode\u001B[0m\u001B[0;34m:\u001B[0m\u001B[0;34m\u001B[0m\u001B[0;34m\u001B[0m\u001B[0m\n\u001B[1;32m    638\u001B[0m             \u001B[0;31m# Encoding\u001B[0m\u001B[0;34m\u001B[0m\u001B[0;34m\u001B[0m\u001B[0;34m\u001B[0m\u001B[0m\n\u001B[0;32m--> 639\u001B[0;31m             handle = open(\n\u001B[0m\u001B[1;32m    640\u001B[0m                 \u001B[0mhandle\u001B[0m\u001B[0;34m,\u001B[0m\u001B[0;34m\u001B[0m\u001B[0;34m\u001B[0m\u001B[0m\n\u001B[1;32m    641\u001B[0m                 \u001B[0mioargs\u001B[0m\u001B[0;34m.\u001B[0m\u001B[0mmode\u001B[0m\u001B[0;34m,\u001B[0m\u001B[0;34m\u001B[0m\u001B[0;34m\u001B[0m\u001B[0m\n",
      "\u001B[0;31mFileNotFoundError\u001B[0m: [Errno 2] No such file or directory: '../data/TOP500_history.csv'"
     ]
    }
   ],
   "source": [
    "df = pd.read_csv(\"data/TOP500_history.csv\")"
   ]
  },
  {
   "cell_type": "code",
   "execution_count": 3,
   "metadata": {},
   "outputs": [
    {
     "data": {
      "text/html": [
       "<div>\n",
       "<style scoped>\n",
       "    .dataframe tbody tr th:only-of-type {\n",
       "        vertical-align: middle;\n",
       "    }\n",
       "\n",
       "    .dataframe tbody tr th {\n",
       "        vertical-align: top;\n",
       "    }\n",
       "\n",
       "    .dataframe thead th {\n",
       "        text-align: right;\n",
       "    }\n",
       "</style>\n",
       "<table border=\"1\" class=\"dataframe\">\n",
       "  <thead>\n",
       "    <tr style=\"text-align: right;\">\n",
       "      <th></th>\n",
       "      <th>Year</th>\n",
       "      <th>Month</th>\n",
       "      <th>Day</th>\n",
       "      <th>Rank</th>\n",
       "      <th>Site</th>\n",
       "      <th>Manufacturer</th>\n",
       "      <th>Computer</th>\n",
       "      <th>Country</th>\n",
       "      <th>Processors</th>\n",
       "      <th>RMax</th>\n",
       "      <th>...</th>\n",
       "      <th>First Rank</th>\n",
       "      <th>Name</th>\n",
       "      <th>Accelerator/Co-Processor Cores</th>\n",
       "      <th>Efficiency (%)</th>\n",
       "      <th>Mflops/Watt</th>\n",
       "      <th>Processor Technology</th>\n",
       "      <th>OS Family</th>\n",
       "      <th>Accelerator/Co-Processor</th>\n",
       "      <th>Cores per Socket</th>\n",
       "      <th>Processor Generation</th>\n",
       "    </tr>\n",
       "  </thead>\n",
       "  <tbody>\n",
       "    <tr>\n",
       "      <th>0</th>\n",
       "      <td>1993</td>\n",
       "      <td>6</td>\n",
       "      <td>1</td>\n",
       "      <td>1.0</td>\n",
       "      <td>Los Alamos National Laboratory</td>\n",
       "      <td>Thinking Machines Corporation</td>\n",
       "      <td>CM-5/1024</td>\n",
       "      <td>United States</td>\n",
       "      <td>1024.0</td>\n",
       "      <td>59.70</td>\n",
       "      <td>...</td>\n",
       "      <td>NaN</td>\n",
       "      <td>NaN</td>\n",
       "      <td>NaN</td>\n",
       "      <td>NaN</td>\n",
       "      <td>NaN</td>\n",
       "      <td>NaN</td>\n",
       "      <td>NaN</td>\n",
       "      <td>NaN</td>\n",
       "      <td>NaN</td>\n",
       "      <td>NaN</td>\n",
       "    </tr>\n",
       "    <tr>\n",
       "      <th>1</th>\n",
       "      <td>1993</td>\n",
       "      <td>6</td>\n",
       "      <td>1</td>\n",
       "      <td>2.0</td>\n",
       "      <td>Minnesota Supercomputer Center</td>\n",
       "      <td>Thinking Machines Corporation</td>\n",
       "      <td>CM-5/544</td>\n",
       "      <td>United States</td>\n",
       "      <td>544.0</td>\n",
       "      <td>30.40</td>\n",
       "      <td>...</td>\n",
       "      <td>NaN</td>\n",
       "      <td>NaN</td>\n",
       "      <td>NaN</td>\n",
       "      <td>NaN</td>\n",
       "      <td>NaN</td>\n",
       "      <td>NaN</td>\n",
       "      <td>NaN</td>\n",
       "      <td>NaN</td>\n",
       "      <td>NaN</td>\n",
       "      <td>NaN</td>\n",
       "    </tr>\n",
       "    <tr>\n",
       "      <th>2</th>\n",
       "      <td>1993</td>\n",
       "      <td>6</td>\n",
       "      <td>1</td>\n",
       "      <td>3.0</td>\n",
       "      <td>NCSA</td>\n",
       "      <td>Thinking Machines Corporation</td>\n",
       "      <td>CM-5/512</td>\n",
       "      <td>United States</td>\n",
       "      <td>512.0</td>\n",
       "      <td>30.40</td>\n",
       "      <td>...</td>\n",
       "      <td>NaN</td>\n",
       "      <td>NaN</td>\n",
       "      <td>NaN</td>\n",
       "      <td>NaN</td>\n",
       "      <td>NaN</td>\n",
       "      <td>NaN</td>\n",
       "      <td>NaN</td>\n",
       "      <td>NaN</td>\n",
       "      <td>NaN</td>\n",
       "      <td>NaN</td>\n",
       "    </tr>\n",
       "    <tr>\n",
       "      <th>3</th>\n",
       "      <td>1993</td>\n",
       "      <td>6</td>\n",
       "      <td>1</td>\n",
       "      <td>4.0</td>\n",
       "      <td>National Security Agency</td>\n",
       "      <td>Thinking Machines Corporation</td>\n",
       "      <td>CM-5/512</td>\n",
       "      <td>United States</td>\n",
       "      <td>512.0</td>\n",
       "      <td>30.40</td>\n",
       "      <td>...</td>\n",
       "      <td>NaN</td>\n",
       "      <td>NaN</td>\n",
       "      <td>NaN</td>\n",
       "      <td>NaN</td>\n",
       "      <td>NaN</td>\n",
       "      <td>NaN</td>\n",
       "      <td>NaN</td>\n",
       "      <td>NaN</td>\n",
       "      <td>NaN</td>\n",
       "      <td>NaN</td>\n",
       "    </tr>\n",
       "    <tr>\n",
       "      <th>4</th>\n",
       "      <td>1993</td>\n",
       "      <td>6</td>\n",
       "      <td>1</td>\n",
       "      <td>5.0</td>\n",
       "      <td>NEC</td>\n",
       "      <td>NEC</td>\n",
       "      <td>SX-3/44R</td>\n",
       "      <td>Japan</td>\n",
       "      <td>4.0</td>\n",
       "      <td>23.20</td>\n",
       "      <td>...</td>\n",
       "      <td>NaN</td>\n",
       "      <td>NaN</td>\n",
       "      <td>NaN</td>\n",
       "      <td>NaN</td>\n",
       "      <td>NaN</td>\n",
       "      <td>NaN</td>\n",
       "      <td>NaN</td>\n",
       "      <td>NaN</td>\n",
       "      <td>NaN</td>\n",
       "      <td>NaN</td>\n",
       "    </tr>\n",
       "    <tr>\n",
       "      <th>...</th>\n",
       "      <td>...</td>\n",
       "      <td>...</td>\n",
       "      <td>...</td>\n",
       "      <td>...</td>\n",
       "      <td>...</td>\n",
       "      <td>...</td>\n",
       "      <td>...</td>\n",
       "      <td>...</td>\n",
       "      <td>...</td>\n",
       "      <td>...</td>\n",
       "      <td>...</td>\n",
       "      <td>...</td>\n",
       "      <td>...</td>\n",
       "      <td>...</td>\n",
       "      <td>...</td>\n",
       "      <td>...</td>\n",
       "      <td>...</td>\n",
       "      <td>...</td>\n",
       "      <td>...</td>\n",
       "      <td>...</td>\n",
       "      <td>...</td>\n",
       "    </tr>\n",
       "    <tr>\n",
       "      <th>11495</th>\n",
       "      <td>2015</td>\n",
       "      <td>6</td>\n",
       "      <td>1</td>\n",
       "      <td>496.0</td>\n",
       "      <td>Research Institute for Information Technology,...</td>\n",
       "      <td>Fujitsu</td>\n",
       "      <td>PRIMEHPC FX10, SPARC64 IXfx 16C 1.848GHz, Tofu...</td>\n",
       "      <td>Japan</td>\n",
       "      <td>NaN</td>\n",
       "      <td>166700.00</td>\n",
       "      <td>...</td>\n",
       "      <td>106.0</td>\n",
       "      <td>NaN</td>\n",
       "      <td>0.0</td>\n",
       "      <td>NaN</td>\n",
       "      <td>NaN</td>\n",
       "      <td>Sparc</td>\n",
       "      <td>Linux</td>\n",
       "      <td>None</td>\n",
       "      <td>16.0</td>\n",
       "      <td>SPARC64 IXfx</td>\n",
       "    </tr>\n",
       "    <tr>\n",
       "      <th>11496</th>\n",
       "      <td>2015</td>\n",
       "      <td>6</td>\n",
       "      <td>1</td>\n",
       "      <td>497.0</td>\n",
       "      <td>Lenovo Innovation Center</td>\n",
       "      <td>Lenovo</td>\n",
       "      <td>Lenovo NeXtScale nx360M5, Xeon E5-2697v3 14C 2...</td>\n",
       "      <td>Germany</td>\n",
       "      <td>NaN</td>\n",
       "      <td>165887.00</td>\n",
       "      <td>...</td>\n",
       "      <td>497.0</td>\n",
       "      <td>LENOX</td>\n",
       "      <td>0.0</td>\n",
       "      <td>NaN</td>\n",
       "      <td>1911.80</td>\n",
       "      <td>Intel Haswell</td>\n",
       "      <td>Linux</td>\n",
       "      <td>None</td>\n",
       "      <td>14.0</td>\n",
       "      <td>Intel Xeon E5 (Haswell)</td>\n",
       "    </tr>\n",
       "    <tr>\n",
       "      <th>11497</th>\n",
       "      <td>2015</td>\n",
       "      <td>6</td>\n",
       "      <td>1</td>\n",
       "      <td>498.0</td>\n",
       "      <td>Government</td>\n",
       "      <td>Cray Inc.</td>\n",
       "      <td>Cray XT5 QC 2.4 GHz</td>\n",
       "      <td>United States</td>\n",
       "      <td>NaN</td>\n",
       "      <td>165600.00</td>\n",
       "      <td>...</td>\n",
       "      <td>23.0</td>\n",
       "      <td>NaN</td>\n",
       "      <td>0.0</td>\n",
       "      <td>NaN</td>\n",
       "      <td>NaN</td>\n",
       "      <td>AMD x86_64</td>\n",
       "      <td>Linux</td>\n",
       "      <td>None</td>\n",
       "      <td>4.0</td>\n",
       "      <td>Opteron Quad Core</td>\n",
       "    </tr>\n",
       "    <tr>\n",
       "      <th>11498</th>\n",
       "      <td>2015</td>\n",
       "      <td>6</td>\n",
       "      <td>1</td>\n",
       "      <td>499.0</td>\n",
       "      <td>Banking (M)</td>\n",
       "      <td>Hewlett-Packard</td>\n",
       "      <td>Cluster Platform 3000 BL460c Gen8, Xeon E5-266...</td>\n",
       "      <td>United States</td>\n",
       "      <td>NaN</td>\n",
       "      <td>165138.60</td>\n",
       "      <td>...</td>\n",
       "      <td>341.0</td>\n",
       "      <td>NaN</td>\n",
       "      <td>0.0</td>\n",
       "      <td>NaN</td>\n",
       "      <td>NaN</td>\n",
       "      <td>Intel SandyBridge</td>\n",
       "      <td>Linux</td>\n",
       "      <td>None</td>\n",
       "      <td>8.0</td>\n",
       "      <td>Intel Xeon E5 (SandyBridge)</td>\n",
       "    </tr>\n",
       "    <tr>\n",
       "      <th>11499</th>\n",
       "      <td>2015</td>\n",
       "      <td>6</td>\n",
       "      <td>1</td>\n",
       "      <td>500.0</td>\n",
       "      <td>E-Commerce</td>\n",
       "      <td>IBM</td>\n",
       "      <td>xSeries x3650M3 Cluster, Xeon E5649 6C 2.53GHz...</td>\n",
       "      <td>United States</td>\n",
       "      <td>NaN</td>\n",
       "      <td>164790.72</td>\n",
       "      <td>...</td>\n",
       "      <td>432.0</td>\n",
       "      <td>NaN</td>\n",
       "      <td>0.0</td>\n",
       "      <td>NaN</td>\n",
       "      <td>185.76</td>\n",
       "      <td>Intel Nehalem</td>\n",
       "      <td>Linux</td>\n",
       "      <td>None</td>\n",
       "      <td>6.0</td>\n",
       "      <td>Xeon 5600-series (Westmere-EP)</td>\n",
       "    </tr>\n",
       "  </tbody>\n",
       "</table>\n",
       "<p>11500 rows × 42 columns</p>\n",
       "</div>"
      ],
      "text/plain": [
       "       Year  Month  Day   Rank  \\\n",
       "0      1993      6    1    1.0   \n",
       "1      1993      6    1    2.0   \n",
       "2      1993      6    1    3.0   \n",
       "3      1993      6    1    4.0   \n",
       "4      1993      6    1    5.0   \n",
       "...     ...    ...  ...    ...   \n",
       "11495  2015      6    1  496.0   \n",
       "11496  2015      6    1  497.0   \n",
       "11497  2015      6    1  498.0   \n",
       "11498  2015      6    1  499.0   \n",
       "11499  2015      6    1  500.0   \n",
       "\n",
       "                                                    Site  \\\n",
       "0                         Los Alamos National Laboratory   \n",
       "1                         Minnesota Supercomputer Center   \n",
       "2                                                   NCSA   \n",
       "3                               National Security Agency   \n",
       "4                                                    NEC   \n",
       "...                                                  ...   \n",
       "11495  Research Institute for Information Technology,...   \n",
       "11496                           Lenovo Innovation Center   \n",
       "11497                                         Government   \n",
       "11498                                        Banking (M)   \n",
       "11499                                         E-Commerce   \n",
       "\n",
       "                        Manufacturer  \\\n",
       "0      Thinking Machines Corporation   \n",
       "1      Thinking Machines Corporation   \n",
       "2      Thinking Machines Corporation   \n",
       "3      Thinking Machines Corporation   \n",
       "4                                NEC   \n",
       "...                              ...   \n",
       "11495                        Fujitsu   \n",
       "11496                         Lenovo   \n",
       "11497                      Cray Inc.   \n",
       "11498                Hewlett-Packard   \n",
       "11499                            IBM   \n",
       "\n",
       "                                                Computer        Country  \\\n",
       "0                                              CM-5/1024  United States   \n",
       "1                                               CM-5/544  United States   \n",
       "2                                               CM-5/512  United States   \n",
       "3                                               CM-5/512  United States   \n",
       "4                                               SX-3/44R          Japan   \n",
       "...                                                  ...            ...   \n",
       "11495  PRIMEHPC FX10, SPARC64 IXfx 16C 1.848GHz, Tofu...          Japan   \n",
       "11496  Lenovo NeXtScale nx360M5, Xeon E5-2697v3 14C 2...        Germany   \n",
       "11497                                Cray XT5 QC 2.4 GHz  United States   \n",
       "11498  Cluster Platform 3000 BL460c Gen8, Xeon E5-266...  United States   \n",
       "11499  xSeries x3650M3 Cluster, Xeon E5649 6C 2.53GHz...  United States   \n",
       "\n",
       "       Processors       RMax  ...  First Rank   Name  \\\n",
       "0          1024.0      59.70  ...         NaN    NaN   \n",
       "1           544.0      30.40  ...         NaN    NaN   \n",
       "2           512.0      30.40  ...         NaN    NaN   \n",
       "3           512.0      30.40  ...         NaN    NaN   \n",
       "4             4.0      23.20  ...         NaN    NaN   \n",
       "...           ...        ...  ...         ...    ...   \n",
       "11495         NaN  166700.00  ...       106.0    NaN   \n",
       "11496         NaN  165887.00  ...       497.0  LENOX   \n",
       "11497         NaN  165600.00  ...        23.0    NaN   \n",
       "11498         NaN  165138.60  ...       341.0    NaN   \n",
       "11499         NaN  164790.72  ...       432.0    NaN   \n",
       "\n",
       "       Accelerator/Co-Processor Cores Efficiency (%) Mflops/Watt  \\\n",
       "0                                 NaN            NaN         NaN   \n",
       "1                                 NaN            NaN         NaN   \n",
       "2                                 NaN            NaN         NaN   \n",
       "3                                 NaN            NaN         NaN   \n",
       "4                                 NaN            NaN         NaN   \n",
       "...                               ...            ...         ...   \n",
       "11495                             0.0            NaN         NaN   \n",
       "11496                             0.0            NaN     1911.80   \n",
       "11497                             0.0            NaN         NaN   \n",
       "11498                             0.0            NaN         NaN   \n",
       "11499                             0.0            NaN      185.76   \n",
       "\n",
       "       Processor Technology OS Family Accelerator/Co-Processor  \\\n",
       "0                       NaN       NaN                      NaN   \n",
       "1                       NaN       NaN                      NaN   \n",
       "2                       NaN       NaN                      NaN   \n",
       "3                       NaN       NaN                      NaN   \n",
       "4                       NaN       NaN                      NaN   \n",
       "...                     ...       ...                      ...   \n",
       "11495                 Sparc     Linux                     None   \n",
       "11496         Intel Haswell     Linux                     None   \n",
       "11497            AMD x86_64     Linux                     None   \n",
       "11498     Intel SandyBridge     Linux                     None   \n",
       "11499         Intel Nehalem     Linux                     None   \n",
       "\n",
       "      Cores per Socket            Processor Generation  \n",
       "0                  NaN                             NaN  \n",
       "1                  NaN                             NaN  \n",
       "2                  NaN                             NaN  \n",
       "3                  NaN                             NaN  \n",
       "4                  NaN                             NaN  \n",
       "...                ...                             ...  \n",
       "11495             16.0                    SPARC64 IXfx  \n",
       "11496             14.0         Intel Xeon E5 (Haswell)  \n",
       "11497              4.0               Opteron Quad Core  \n",
       "11498              8.0     Intel Xeon E5 (SandyBridge)  \n",
       "11499              6.0  Xeon 5600-series (Westmere-EP)  \n",
       "\n",
       "[11500 rows x 42 columns]"
      ]
     },
     "execution_count": 3,
     "metadata": {},
     "output_type": "execute_result"
    }
   ],
   "source": [
    "df  # print"
   ]
  },
  {
   "cell_type": "code",
   "execution_count": 4,
   "metadata": {},
   "outputs": [
    {
     "data": {
      "text/plain": [
       "(11500, 42)"
      ]
     },
     "execution_count": 4,
     "metadata": {},
     "output_type": "execute_result"
    }
   ],
   "source": [
    "df.shape"
   ]
  },
  {
   "cell_type": "code",
   "execution_count": 5,
   "metadata": {},
   "outputs": [
    {
     "data": {
      "text/html": [
       "<div>\n",
       "<style scoped>\n",
       "    .dataframe tbody tr th:only-of-type {\n",
       "        vertical-align: middle;\n",
       "    }\n",
       "\n",
       "    .dataframe tbody tr th {\n",
       "        vertical-align: top;\n",
       "    }\n",
       "\n",
       "    .dataframe thead th {\n",
       "        text-align: right;\n",
       "    }\n",
       "</style>\n",
       "<table border=\"1\" class=\"dataframe\">\n",
       "  <thead>\n",
       "    <tr style=\"text-align: right;\">\n",
       "      <th></th>\n",
       "      <th>Year</th>\n",
       "      <th>Month</th>\n",
       "      <th>Day</th>\n",
       "      <th>Rank</th>\n",
       "      <th>Site</th>\n",
       "      <th>Manufacturer</th>\n",
       "      <th>Computer</th>\n",
       "      <th>Country</th>\n",
       "      <th>Processors</th>\n",
       "      <th>RMax</th>\n",
       "      <th>...</th>\n",
       "      <th>First Rank</th>\n",
       "      <th>Name</th>\n",
       "      <th>Accelerator/Co-Processor Cores</th>\n",
       "      <th>Efficiency (%)</th>\n",
       "      <th>Mflops/Watt</th>\n",
       "      <th>Processor Technology</th>\n",
       "      <th>OS Family</th>\n",
       "      <th>Accelerator/Co-Processor</th>\n",
       "      <th>Cores per Socket</th>\n",
       "      <th>Processor Generation</th>\n",
       "    </tr>\n",
       "  </thead>\n",
       "  <tbody>\n",
       "    <tr>\n",
       "      <th>0</th>\n",
       "      <td>1993</td>\n",
       "      <td>6</td>\n",
       "      <td>1</td>\n",
       "      <td>1.0</td>\n",
       "      <td>Los Alamos National Laboratory</td>\n",
       "      <td>Thinking Machines Corporation</td>\n",
       "      <td>CM-5/1024</td>\n",
       "      <td>United States</td>\n",
       "      <td>1024.0</td>\n",
       "      <td>59.7</td>\n",
       "      <td>...</td>\n",
       "      <td>NaN</td>\n",
       "      <td>NaN</td>\n",
       "      <td>NaN</td>\n",
       "      <td>NaN</td>\n",
       "      <td>NaN</td>\n",
       "      <td>NaN</td>\n",
       "      <td>NaN</td>\n",
       "      <td>NaN</td>\n",
       "      <td>NaN</td>\n",
       "      <td>NaN</td>\n",
       "    </tr>\n",
       "    <tr>\n",
       "      <th>1</th>\n",
       "      <td>1993</td>\n",
       "      <td>6</td>\n",
       "      <td>1</td>\n",
       "      <td>2.0</td>\n",
       "      <td>Minnesota Supercomputer Center</td>\n",
       "      <td>Thinking Machines Corporation</td>\n",
       "      <td>CM-5/544</td>\n",
       "      <td>United States</td>\n",
       "      <td>544.0</td>\n",
       "      <td>30.4</td>\n",
       "      <td>...</td>\n",
       "      <td>NaN</td>\n",
       "      <td>NaN</td>\n",
       "      <td>NaN</td>\n",
       "      <td>NaN</td>\n",
       "      <td>NaN</td>\n",
       "      <td>NaN</td>\n",
       "      <td>NaN</td>\n",
       "      <td>NaN</td>\n",
       "      <td>NaN</td>\n",
       "      <td>NaN</td>\n",
       "    </tr>\n",
       "    <tr>\n",
       "      <th>2</th>\n",
       "      <td>1993</td>\n",
       "      <td>6</td>\n",
       "      <td>1</td>\n",
       "      <td>3.0</td>\n",
       "      <td>NCSA</td>\n",
       "      <td>Thinking Machines Corporation</td>\n",
       "      <td>CM-5/512</td>\n",
       "      <td>United States</td>\n",
       "      <td>512.0</td>\n",
       "      <td>30.4</td>\n",
       "      <td>...</td>\n",
       "      <td>NaN</td>\n",
       "      <td>NaN</td>\n",
       "      <td>NaN</td>\n",
       "      <td>NaN</td>\n",
       "      <td>NaN</td>\n",
       "      <td>NaN</td>\n",
       "      <td>NaN</td>\n",
       "      <td>NaN</td>\n",
       "      <td>NaN</td>\n",
       "      <td>NaN</td>\n",
       "    </tr>\n",
       "    <tr>\n",
       "      <th>3</th>\n",
       "      <td>1993</td>\n",
       "      <td>6</td>\n",
       "      <td>1</td>\n",
       "      <td>4.0</td>\n",
       "      <td>National Security Agency</td>\n",
       "      <td>Thinking Machines Corporation</td>\n",
       "      <td>CM-5/512</td>\n",
       "      <td>United States</td>\n",
       "      <td>512.0</td>\n",
       "      <td>30.4</td>\n",
       "      <td>...</td>\n",
       "      <td>NaN</td>\n",
       "      <td>NaN</td>\n",
       "      <td>NaN</td>\n",
       "      <td>NaN</td>\n",
       "      <td>NaN</td>\n",
       "      <td>NaN</td>\n",
       "      <td>NaN</td>\n",
       "      <td>NaN</td>\n",
       "      <td>NaN</td>\n",
       "      <td>NaN</td>\n",
       "    </tr>\n",
       "    <tr>\n",
       "      <th>4</th>\n",
       "      <td>1993</td>\n",
       "      <td>6</td>\n",
       "      <td>1</td>\n",
       "      <td>5.0</td>\n",
       "      <td>NEC</td>\n",
       "      <td>NEC</td>\n",
       "      <td>SX-3/44R</td>\n",
       "      <td>Japan</td>\n",
       "      <td>4.0</td>\n",
       "      <td>23.2</td>\n",
       "      <td>...</td>\n",
       "      <td>NaN</td>\n",
       "      <td>NaN</td>\n",
       "      <td>NaN</td>\n",
       "      <td>NaN</td>\n",
       "      <td>NaN</td>\n",
       "      <td>NaN</td>\n",
       "      <td>NaN</td>\n",
       "      <td>NaN</td>\n",
       "      <td>NaN</td>\n",
       "      <td>NaN</td>\n",
       "    </tr>\n",
       "  </tbody>\n",
       "</table>\n",
       "<p>5 rows × 42 columns</p>\n",
       "</div>"
      ],
      "text/plain": [
       "   Year  Month  Day  Rank                            Site  \\\n",
       "0  1993      6    1   1.0  Los Alamos National Laboratory   \n",
       "1  1993      6    1   2.0  Minnesota Supercomputer Center   \n",
       "2  1993      6    1   3.0                            NCSA   \n",
       "3  1993      6    1   4.0        National Security Agency   \n",
       "4  1993      6    1   5.0                             NEC   \n",
       "\n",
       "                    Manufacturer   Computer        Country  Processors  RMax  \\\n",
       "0  Thinking Machines Corporation  CM-5/1024  United States      1024.0  59.7   \n",
       "1  Thinking Machines Corporation   CM-5/544  United States       544.0  30.4   \n",
       "2  Thinking Machines Corporation   CM-5/512  United States       512.0  30.4   \n",
       "3  Thinking Machines Corporation   CM-5/512  United States       512.0  30.4   \n",
       "4                            NEC   SX-3/44R          Japan         4.0  23.2   \n",
       "\n",
       "   ...  First Rank  Name  Accelerator/Co-Processor Cores Efficiency (%)  \\\n",
       "0  ...         NaN   NaN                             NaN            NaN   \n",
       "1  ...         NaN   NaN                             NaN            NaN   \n",
       "2  ...         NaN   NaN                             NaN            NaN   \n",
       "3  ...         NaN   NaN                             NaN            NaN   \n",
       "4  ...         NaN   NaN                             NaN            NaN   \n",
       "\n",
       "  Mflops/Watt  Processor Technology OS Family Accelerator/Co-Processor  \\\n",
       "0         NaN                   NaN       NaN                      NaN   \n",
       "1         NaN                   NaN       NaN                      NaN   \n",
       "2         NaN                   NaN       NaN                      NaN   \n",
       "3         NaN                   NaN       NaN                      NaN   \n",
       "4         NaN                   NaN       NaN                      NaN   \n",
       "\n",
       "  Cores per Socket Processor Generation  \n",
       "0              NaN                  NaN  \n",
       "1              NaN                  NaN  \n",
       "2              NaN                  NaN  \n",
       "3              NaN                  NaN  \n",
       "4              NaN                  NaN  \n",
       "\n",
       "[5 rows x 42 columns]"
      ]
     },
     "execution_count": 5,
     "metadata": {},
     "output_type": "execute_result"
    }
   ],
   "source": [
    "df.head()"
   ]
  },
  {
   "cell_type": "code",
   "execution_count": 6,
   "metadata": {},
   "outputs": [
    {
     "data": {
      "text/html": [
       "<div>\n",
       "<style scoped>\n",
       "    .dataframe tbody tr th:only-of-type {\n",
       "        vertical-align: middle;\n",
       "    }\n",
       "\n",
       "    .dataframe tbody tr th {\n",
       "        vertical-align: top;\n",
       "    }\n",
       "\n",
       "    .dataframe thead th {\n",
       "        text-align: right;\n",
       "    }\n",
       "</style>\n",
       "<table border=\"1\" class=\"dataframe\">\n",
       "  <thead>\n",
       "    <tr style=\"text-align: right;\">\n",
       "      <th></th>\n",
       "      <th>Year</th>\n",
       "      <th>Month</th>\n",
       "      <th>Day</th>\n",
       "      <th>Rank</th>\n",
       "      <th>Site</th>\n",
       "      <th>Manufacturer</th>\n",
       "      <th>Computer</th>\n",
       "      <th>Country</th>\n",
       "      <th>Processors</th>\n",
       "      <th>RMax</th>\n",
       "      <th>...</th>\n",
       "      <th>First Rank</th>\n",
       "      <th>Name</th>\n",
       "      <th>Accelerator/Co-Processor Cores</th>\n",
       "      <th>Efficiency (%)</th>\n",
       "      <th>Mflops/Watt</th>\n",
       "      <th>Processor Technology</th>\n",
       "      <th>OS Family</th>\n",
       "      <th>Accelerator/Co-Processor</th>\n",
       "      <th>Cores per Socket</th>\n",
       "      <th>Processor Generation</th>\n",
       "    </tr>\n",
       "  </thead>\n",
       "  <tbody>\n",
       "    <tr>\n",
       "      <th>11495</th>\n",
       "      <td>2015</td>\n",
       "      <td>6</td>\n",
       "      <td>1</td>\n",
       "      <td>496.0</td>\n",
       "      <td>Research Institute for Information Technology,...</td>\n",
       "      <td>Fujitsu</td>\n",
       "      <td>PRIMEHPC FX10, SPARC64 IXfx 16C 1.848GHz, Tofu...</td>\n",
       "      <td>Japan</td>\n",
       "      <td>NaN</td>\n",
       "      <td>166700.00</td>\n",
       "      <td>...</td>\n",
       "      <td>106.0</td>\n",
       "      <td>NaN</td>\n",
       "      <td>0.0</td>\n",
       "      <td>NaN</td>\n",
       "      <td>NaN</td>\n",
       "      <td>Sparc</td>\n",
       "      <td>Linux</td>\n",
       "      <td>None</td>\n",
       "      <td>16.0</td>\n",
       "      <td>SPARC64 IXfx</td>\n",
       "    </tr>\n",
       "    <tr>\n",
       "      <th>11496</th>\n",
       "      <td>2015</td>\n",
       "      <td>6</td>\n",
       "      <td>1</td>\n",
       "      <td>497.0</td>\n",
       "      <td>Lenovo Innovation Center</td>\n",
       "      <td>Lenovo</td>\n",
       "      <td>Lenovo NeXtScale nx360M5, Xeon E5-2697v3 14C 2...</td>\n",
       "      <td>Germany</td>\n",
       "      <td>NaN</td>\n",
       "      <td>165887.00</td>\n",
       "      <td>...</td>\n",
       "      <td>497.0</td>\n",
       "      <td>LENOX</td>\n",
       "      <td>0.0</td>\n",
       "      <td>NaN</td>\n",
       "      <td>1911.80</td>\n",
       "      <td>Intel Haswell</td>\n",
       "      <td>Linux</td>\n",
       "      <td>None</td>\n",
       "      <td>14.0</td>\n",
       "      <td>Intel Xeon E5 (Haswell)</td>\n",
       "    </tr>\n",
       "    <tr>\n",
       "      <th>11497</th>\n",
       "      <td>2015</td>\n",
       "      <td>6</td>\n",
       "      <td>1</td>\n",
       "      <td>498.0</td>\n",
       "      <td>Government</td>\n",
       "      <td>Cray Inc.</td>\n",
       "      <td>Cray XT5 QC 2.4 GHz</td>\n",
       "      <td>United States</td>\n",
       "      <td>NaN</td>\n",
       "      <td>165600.00</td>\n",
       "      <td>...</td>\n",
       "      <td>23.0</td>\n",
       "      <td>NaN</td>\n",
       "      <td>0.0</td>\n",
       "      <td>NaN</td>\n",
       "      <td>NaN</td>\n",
       "      <td>AMD x86_64</td>\n",
       "      <td>Linux</td>\n",
       "      <td>None</td>\n",
       "      <td>4.0</td>\n",
       "      <td>Opteron Quad Core</td>\n",
       "    </tr>\n",
       "    <tr>\n",
       "      <th>11498</th>\n",
       "      <td>2015</td>\n",
       "      <td>6</td>\n",
       "      <td>1</td>\n",
       "      <td>499.0</td>\n",
       "      <td>Banking (M)</td>\n",
       "      <td>Hewlett-Packard</td>\n",
       "      <td>Cluster Platform 3000 BL460c Gen8, Xeon E5-266...</td>\n",
       "      <td>United States</td>\n",
       "      <td>NaN</td>\n",
       "      <td>165138.60</td>\n",
       "      <td>...</td>\n",
       "      <td>341.0</td>\n",
       "      <td>NaN</td>\n",
       "      <td>0.0</td>\n",
       "      <td>NaN</td>\n",
       "      <td>NaN</td>\n",
       "      <td>Intel SandyBridge</td>\n",
       "      <td>Linux</td>\n",
       "      <td>None</td>\n",
       "      <td>8.0</td>\n",
       "      <td>Intel Xeon E5 (SandyBridge)</td>\n",
       "    </tr>\n",
       "    <tr>\n",
       "      <th>11499</th>\n",
       "      <td>2015</td>\n",
       "      <td>6</td>\n",
       "      <td>1</td>\n",
       "      <td>500.0</td>\n",
       "      <td>E-Commerce</td>\n",
       "      <td>IBM</td>\n",
       "      <td>xSeries x3650M3 Cluster, Xeon E5649 6C 2.53GHz...</td>\n",
       "      <td>United States</td>\n",
       "      <td>NaN</td>\n",
       "      <td>164790.72</td>\n",
       "      <td>...</td>\n",
       "      <td>432.0</td>\n",
       "      <td>NaN</td>\n",
       "      <td>0.0</td>\n",
       "      <td>NaN</td>\n",
       "      <td>185.76</td>\n",
       "      <td>Intel Nehalem</td>\n",
       "      <td>Linux</td>\n",
       "      <td>None</td>\n",
       "      <td>6.0</td>\n",
       "      <td>Xeon 5600-series (Westmere-EP)</td>\n",
       "    </tr>\n",
       "  </tbody>\n",
       "</table>\n",
       "<p>5 rows × 42 columns</p>\n",
       "</div>"
      ],
      "text/plain": [
       "       Year  Month  Day   Rank  \\\n",
       "11495  2015      6    1  496.0   \n",
       "11496  2015      6    1  497.0   \n",
       "11497  2015      6    1  498.0   \n",
       "11498  2015      6    1  499.0   \n",
       "11499  2015      6    1  500.0   \n",
       "\n",
       "                                                    Site     Manufacturer  \\\n",
       "11495  Research Institute for Information Technology,...          Fujitsu   \n",
       "11496                           Lenovo Innovation Center           Lenovo   \n",
       "11497                                         Government        Cray Inc.   \n",
       "11498                                        Banking (M)  Hewlett-Packard   \n",
       "11499                                         E-Commerce              IBM   \n",
       "\n",
       "                                                Computer        Country  \\\n",
       "11495  PRIMEHPC FX10, SPARC64 IXfx 16C 1.848GHz, Tofu...          Japan   \n",
       "11496  Lenovo NeXtScale nx360M5, Xeon E5-2697v3 14C 2...        Germany   \n",
       "11497                                Cray XT5 QC 2.4 GHz  United States   \n",
       "11498  Cluster Platform 3000 BL460c Gen8, Xeon E5-266...  United States   \n",
       "11499  xSeries x3650M3 Cluster, Xeon E5649 6C 2.53GHz...  United States   \n",
       "\n",
       "       Processors       RMax  ...  First Rank   Name  \\\n",
       "11495         NaN  166700.00  ...       106.0    NaN   \n",
       "11496         NaN  165887.00  ...       497.0  LENOX   \n",
       "11497         NaN  165600.00  ...        23.0    NaN   \n",
       "11498         NaN  165138.60  ...       341.0    NaN   \n",
       "11499         NaN  164790.72  ...       432.0    NaN   \n",
       "\n",
       "       Accelerator/Co-Processor Cores Efficiency (%) Mflops/Watt  \\\n",
       "11495                             0.0            NaN         NaN   \n",
       "11496                             0.0            NaN     1911.80   \n",
       "11497                             0.0            NaN         NaN   \n",
       "11498                             0.0            NaN         NaN   \n",
       "11499                             0.0            NaN      185.76   \n",
       "\n",
       "       Processor Technology OS Family Accelerator/Co-Processor  \\\n",
       "11495                 Sparc     Linux                     None   \n",
       "11496         Intel Haswell     Linux                     None   \n",
       "11497            AMD x86_64     Linux                     None   \n",
       "11498     Intel SandyBridge     Linux                     None   \n",
       "11499         Intel Nehalem     Linux                     None   \n",
       "\n",
       "      Cores per Socket            Processor Generation  \n",
       "11495             16.0                    SPARC64 IXfx  \n",
       "11496             14.0         Intel Xeon E5 (Haswell)  \n",
       "11497              4.0               Opteron Quad Core  \n",
       "11498              8.0     Intel Xeon E5 (SandyBridge)  \n",
       "11499              6.0  Xeon 5600-series (Westmere-EP)  \n",
       "\n",
       "[5 rows x 42 columns]"
      ]
     },
     "execution_count": 6,
     "metadata": {},
     "output_type": "execute_result"
    }
   ],
   "source": [
    "df.tail()"
   ]
  },
  {
   "cell_type": "code",
   "execution_count": 7,
   "metadata": {},
   "outputs": [
    {
     "data": {
      "text/plain": [
       "0        1993\n",
       "1        1993\n",
       "2        1993\n",
       "3        1993\n",
       "4        1993\n",
       "         ... \n",
       "11495    2015\n",
       "11496    2015\n",
       "11497    2015\n",
       "11498    2015\n",
       "11499    2015\n",
       "Name: Year, Length: 11500, dtype: int64"
      ]
     },
     "execution_count": 7,
     "metadata": {},
     "output_type": "execute_result"
    }
   ],
   "source": [
    "df.Year  # vs. df[\"Year\"]"
   ]
  },
  {
   "cell_type": "code",
   "execution_count": null,
   "metadata": {},
   "outputs": [],
   "source": [
    "df.Year.min()"
   ]
  },
  {
   "cell_type": "code",
   "execution_count": null,
   "metadata": {},
   "outputs": [],
   "source": [
    "df.Year.max()"
   ]
  },
  {
   "cell_type": "code",
   "execution_count": null,
   "metadata": {},
   "outputs": [],
   "source": [
    "df.Month.unique()"
   ]
  },
  {
   "cell_type": "code",
   "execution_count": null,
   "metadata": {},
   "outputs": [],
   "source": [
    "df.Country.unique()"
   ]
  },
  {
   "cell_type": "code",
   "execution_count": null,
   "metadata": {},
   "outputs": [],
   "source": [
    "df.describe()"
   ]
  },
  {
   "cell_type": "code",
   "execution_count": null,
   "metadata": {},
   "outputs": [],
   "source": [
    "df[df.Rank < 5].Name.dropna().unique()  # filtering"
   ]
  },
  {
   "cell_type": "code",
   "execution_count": null,
   "metadata": {
    "scrolled": true
   },
   "outputs": [],
   "source": [
    "df[df.Country == \"Czech Republic\"]  # eq, isin"
   ]
  },
  {
   "cell_type": "code",
   "execution_count": null,
   "metadata": {},
   "outputs": [],
   "source": [
    "df[df.RMax == df.RMax.min()].Country.unique()  # PRIKLAD 1 -- nejpomalejsi pocitac"
   ]
  },
  {
   "cell_type": "code",
   "execution_count": 9,
   "metadata": {},
   "outputs": [],
   "source": [
    "last_df = df[(df[\"Year\"] == 2015) & (df[\"Month\"] == 6)]  # AND & OR ve filterech"
   ]
  },
  {
   "cell_type": "code",
   "execution_count": 11,
   "metadata": {},
   "outputs": [
    {
     "data": {
      "text/plain": [
       "<matplotlib.axes._subplots.AxesSubplot at 0x7fab6ddab2e0>"
      ]
     },
     "execution_count": 11,
     "metadata": {},
     "output_type": "execute_result"
    },
    {
     "data": {
      "image/png": "[encoded data removed]",
      "text/plain": [
       "<Figure size 432x288 with 1 Axes>"
      ]
     },
     "metadata": {
      "needs_background": "light"
     },
     "output_type": "display_data"
    }
   ],
   "source": [
    "last_df[\"Processor Technology\"].value_counts().plot(kind=\"bar\")  # values_count"
   ]
  },
  {
   "cell_type": "code",
   "execution_count": null,
   "metadata": {},
   "outputs": [],
   "source": [
    "x = last_df[\"Processor Technology\"].value_counts()  # aritmeticke operace s daty\n",
    "x / x.sum() * 100"
   ]
  },
  {
   "cell_type": "code",
   "execution_count": null,
   "metadata": {},
   "outputs": [],
   "source": [
    "np.sin(x) + np.cos(x / 2)"
   ]
  },
  {
   "cell_type": "code",
   "execution_count": null,
   "metadata": {},
   "outputs": [],
   "source": [
    "last_df[\"Processor Technology\"].value_counts(normalize=True) * 100"
   ]
  },
  {
   "cell_type": "code",
   "execution_count": 16,
   "metadata": {},
   "outputs": [],
   "source": [
    "df[\"Date\"] = df.apply(lambda x: datetime(year=x.Year, month=x.Month, day=1), axis=1)  # Aplikace funkce na sloupec"
   ]
  },
  {
   "cell_type": "code",
   "execution_count": null,
   "metadata": {},
   "outputs": [],
   "source": []
  },
  {
   "cell_type": "code",
   "execution_count": null,
   "metadata": {},
   "outputs": [],
   "source": []
  },
  {
   "cell_type": "code",
   "execution_count": null,
   "metadata": {},
   "outputs": [],
   "source": [
    "df.iloc[3]"
   ]
  },
  {
   "cell_type": "code",
   "execution_count": null,
   "metadata": {},
   "outputs": [],
   "source": [
    "df.loc[3]"
   ]
  },
  {
   "cell_type": "code",
   "execution_count": null,
   "metadata": {
    "scrolled": true
   },
   "outputs": [],
   "source": [
    "df_name_index = df.set_index(\"Name\")"
   ]
  },
  {
   "cell_type": "code",
   "execution_count": null,
   "metadata": {},
   "outputs": [],
   "source": [
    "df_name_index.loc[\"Salomon\"]"
   ]
  },
  {
   "cell_type": "code",
   "execution_count": null,
   "metadata": {},
   "outputs": [],
   "source": [
    "df_name_index"
   ]
  },
  {
   "cell_type": "code",
   "execution_count": null,
   "metadata": {},
   "outputs": [],
   "source": []
  },
  {
   "cell_type": "code",
   "execution_count": null,
   "metadata": {},
   "outputs": [],
   "source": [
    "g = df.groupby(\"Country\")"
   ]
  },
  {
   "cell_type": "code",
   "execution_count": null,
   "metadata": {},
   "outputs": [],
   "source": [
    "g.size()"
   ]
  },
  {
   "cell_type": "code",
   "execution_count": null,
   "metadata": {},
   "outputs": [],
   "source": [
    "g.size().sort_values(ascending=False).head(10).plot(\"bar\") # 10 zemi s nejvice pocitaci"
   ]
  },
  {
   "cell_type": "code",
   "execution_count": null,
   "metadata": {},
   "outputs": [],
   "source": [
    "g.RMax.max().sort_values(ascending=False).head(10).plot(\"bar\")  # PRIKLAD: 10 zemi s nejrychlejimi pocitaci"
   ]
  },
  {
   "cell_type": "code",
   "execution_count": null,
   "metadata": {},
   "outputs": [],
   "source": []
  },
  {
   "cell_type": "code",
   "execution_count": null,
   "metadata": {},
   "outputs": [],
   "source": []
  },
  {
   "cell_type": "code",
   "execution_count": 17,
   "metadata": {},
   "outputs": [
    {
     "data": {
      "text/plain": [
       "<matplotlib.axes._subplots.AxesSubplot at 0x7fab6b8c6130>"
      ]
     },
     "execution_count": 17,
     "metadata": {},
     "output_type": "execute_result"
    },
    {
     "data": {
      "image/png": "[encoded data removed]",
      "text/plain": [
       "<Figure size 432x288 with 1 Axes>"
      ]
     },
     "metadata": {
      "needs_background": "light"
     },
     "output_type": "display_data"
    }
   ],
   "source": [
    "df.groupby(\"Date\").RMax.mean().plot(logy=True)  # Vyvoj RMax v case: Priklad na lineplot"
   ]
  },
  {
   "cell_type": "code",
   "execution_count": 18,
   "metadata": {},
   "outputs": [
    {
     "data": {
      "text/plain": [
       "<matplotlib.axes._subplots.AxesSubplot at 0x7fab6b63fca0>"
      ]
     },
     "execution_count": 18,
     "metadata": {},
     "output_type": "execute_result"
    },
    {
     "data": {
      "image/png": "[encoded data removed]",
      "text/plain": [
       "<Figure size 432x288 with 1 Axes>"
      ]
     },
     "metadata": {
      "needs_background": "light"
     },
     "output_type": "display_data"
    }
   ],
   "source": [
    "df[df.Rank <= 10].groupby(\"Date\").agg({\"Mflops/Watt\": [np.min, np.mean, np.max]}).plot()  # Vice agregacnich funkci"
   ]
  },
  {
   "cell_type": "code",
   "execution_count": null,
   "metadata": {},
   "outputs": [],
   "source": []
  },
  {
   "cell_type": "code",
   "execution_count": 12,
   "metadata": {},
   "outputs": [
    {
     "ename": "AttributeError",
     "evalue": "'DataFrame' object has no attribute 'Date'",
     "output_type": "error",
     "traceback": [
      "\u001B[0;31m---------------------------------------------------------------------------\u001B[0m",
      "\u001B[0;31mAttributeError\u001B[0m                            Traceback (most recent call last)",
      "\u001B[0;32m<ipython-input-12-8a511bfc487f>\u001B[0m in \u001B[0;36m<module>\u001B[0;34m\u001B[0m\n\u001B[1;32m      1\u001B[0m \u001B[0;31m# Priklad? V kterem roce by byl naposledy Salomon rank=1\u001B[0m\u001B[0;34m\u001B[0m\u001B[0;34m\u001B[0m\u001B[0;34m\u001B[0m\u001B[0m\n\u001B[1;32m      2\u001B[0m \u001B[0;34m\u001B[0m\u001B[0m\n\u001B[0;32m----> 3\u001B[0;31m \u001B[0mdf\u001B[0m\u001B[0;34m[\u001B[0m\u001B[0;34m(\u001B[0m\u001B[0mdf\u001B[0m\u001B[0;34m.\u001B[0m\u001B[0mRank\u001B[0m \u001B[0;34m==\u001B[0m \u001B[0;36m1\u001B[0m\u001B[0;34m)\u001B[0m \u001B[0;34m&\u001B[0m \u001B[0;34m(\u001B[0m\u001B[0mdf\u001B[0m\u001B[0;34m.\u001B[0m\u001B[0mRMax\u001B[0m \u001B[0;34m<\u001B[0m \u001B[0mdf\u001B[0m\u001B[0;34m[\u001B[0m\u001B[0mdf\u001B[0m\u001B[0;34m.\u001B[0m\u001B[0mName\u001B[0m \u001B[0;34m==\u001B[0m \u001B[0;34m\"Salomon\"\u001B[0m\u001B[0;34m]\u001B[0m\u001B[0;34m.\u001B[0m\u001B[0mRMax\u001B[0m\u001B[0;34m.\u001B[0m\u001B[0miloc\u001B[0m\u001B[0;34m[\u001B[0m\u001B[0;36m0\u001B[0m\u001B[0;34m]\u001B[0m\u001B[0;34m)\u001B[0m\u001B[0;34m]\u001B[0m\u001B[0;34m.\u001B[0m\u001B[0mDate\u001B[0m\u001B[0;34m.\u001B[0m\u001B[0mmax\u001B[0m\u001B[0;34m(\u001B[0m\u001B[0;34m)\u001B[0m\u001B[0;34m\u001B[0m\u001B[0;34m\u001B[0m\u001B[0m\n\u001B[0m",
      "\u001B[0;32m~/.local/lib/python3.8/site-packages/pandas/core/generic.py\u001B[0m in \u001B[0;36m__getattr__\u001B[0;34m(self, name)\u001B[0m\n\u001B[1;32m   5458\u001B[0m             \u001B[0;32mif\u001B[0m \u001B[0mself\u001B[0m\u001B[0;34m.\u001B[0m\u001B[0m_info_axis\u001B[0m\u001B[0;34m.\u001B[0m\u001B[0m_can_hold_identifiers_and_holds_name\u001B[0m\u001B[0;34m(\u001B[0m\u001B[0mname\u001B[0m\u001B[0;34m)\u001B[0m\u001B[0;34m:\u001B[0m\u001B[0;34m\u001B[0m\u001B[0;34m\u001B[0m\u001B[0m\n\u001B[1;32m   5459\u001B[0m                 \u001B[0;32mreturn\u001B[0m \u001B[0mself\u001B[0m\u001B[0;34m[\u001B[0m\u001B[0mname\u001B[0m\u001B[0;34m]\u001B[0m\u001B[0;34m\u001B[0m\u001B[0;34m\u001B[0m\u001B[0m\n\u001B[0;32m-> 5460\u001B[0;31m             \u001B[0;32mreturn\u001B[0m \u001B[0mobject\u001B[0m\u001B[0;34m.\u001B[0m\u001B[0m__getattribute__\u001B[0m\u001B[0;34m(\u001B[0m\u001B[0mself\u001B[0m\u001B[0;34m,\u001B[0m \u001B[0mname\u001B[0m\u001B[0;34m)\u001B[0m\u001B[0;34m\u001B[0m\u001B[0;34m\u001B[0m\u001B[0m\n\u001B[0m\u001B[1;32m   5461\u001B[0m \u001B[0;34m\u001B[0m\u001B[0m\n\u001B[1;32m   5462\u001B[0m     \u001B[0;32mdef\u001B[0m \u001B[0m__setattr__\u001B[0m\u001B[0;34m(\u001B[0m\u001B[0mself\u001B[0m\u001B[0;34m,\u001B[0m \u001B[0mname\u001B[0m\u001B[0;34m:\u001B[0m \u001B[0mstr\u001B[0m\u001B[0;34m,\u001B[0m \u001B[0mvalue\u001B[0m\u001B[0;34m)\u001B[0m \u001B[0;34m->\u001B[0m \u001B[0;32mNone\u001B[0m\u001B[0;34m:\u001B[0m\u001B[0;34m\u001B[0m\u001B[0;34m\u001B[0m\u001B[0m\n",
      "\u001B[0;31mAttributeError\u001B[0m: 'DataFrame' object has no attribute 'Date'"
     ]
    }
   ],
   "source": [
    "# Priklad? V kterem roce by byl naposledy Salomon rank=1\n",
    "\n",
    "df[(df.Rank == 1) & (df.RMax < df[df.Name == \"Salomon\"].RMax.iloc[0])].Date.max()"
   ]
  },
  {
   "cell_type": "code",
   "execution_count": null,
   "metadata": {},
   "outputs": [],
   "source": []
  },
  {
   "cell_type": "code",
   "execution_count": null,
   "metadata": {},
   "outputs": [],
   "source": []
  },
  {
   "cell_type": "code",
   "execution_count": 19,
   "metadata": {},
   "outputs": [],
   "source": [
    "import seaborn as sns"
   ]
  },
  {
   "cell_type": "code",
   "execution_count": 20,
   "metadata": {
    "scrolled": true
   },
   "outputs": [
    {
     "data": {
      "text/plain": [
       "<matplotlib.axes._subplots.AxesSubplot at 0x7fab6ada8040>"
      ]
     },
     "execution_count": 20,
     "metadata": {},
     "output_type": "execute_result"
    },
    {
     "data": {
      "image/png": "[encoded data removed]",
      "text/plain": [
       "<Figure size 432x288 with 1 Axes>"
      ]
     },
     "metadata": {
      "needs_background": "light"
     },
     "output_type": "display_data"
    }
   ],
   "source": [
    "df2 = df[df.Country.isin([\"China\", \"United States\"])]\n",
    "sns.lineplot(x=\"Date\", y=\"Cores per Socket\", data=df2, hue=\"Country\")\n",
    "\n",
    "#import matplotlib.pyplot as plt\n",
    "#plt.legend(bbox_to_anchor=(1.05, 1), loc=2, borderaxespad=0.)"
   ]
  },
  {
   "cell_type": "code",
   "execution_count": null,
   "metadata": {},
   "outputs": [],
   "source": []
  },
  {
   "cell_type": "code",
   "execution_count": null,
   "metadata": {},
   "outputs": [],
   "source": [
    "sns.violinplot(x=\"Country\", y=\"Cores per Socket\", data=df2)"
   ]
  },
  {
   "cell_type": "code",
   "execution_count": null,
   "metadata": {},
   "outputs": [],
   "source": []
  },
  {
   "cell_type": "code",
   "execution_count": null,
   "metadata": {},
   "outputs": [],
   "source": []
  },
  {
   "cell_type": "code",
   "execution_count": null,
   "metadata": {},
   "outputs": [],
   "source": [
    "cols = [\"RMax\", \"Processor Speed (MHz)\", \"Processors\", \"Year\"]\n",
    "sns.pairplot(data=df2, vars=cols, hue=\"Country\", diag_kind=\"hist\", markers=[\"+\", \"o\"])"
   ]
  },
  {
   "cell_type": "code",
   "execution_count": null,
   "metadata": {},
   "outputs": [],
   "source": []
  },
  {
   "cell_type": "code",
   "execution_count": null,
   "metadata": {},
   "outputs": [],
   "source": []
  },
  {
   "cell_type": "code",
   "execution_count": null,
   "metadata": {},
   "outputs": [],
   "source": []
  },
  {
   "cell_type": "code",
   "execution_count": null,
   "metadata": {},
   "outputs": [],
   "source": []
  },
  {
   "cell_type": "code",
   "execution_count": null,
   "metadata": {},
   "outputs": [],
   "source": [
    "g = sns.catplot('Rank','Country', data=df[(df.Year==2015) & (df.Month==6)],                   \n",
    "                   height=8,\n",
    "              )"
   ]
  },
  {
   "cell_type": "code",
   "execution_count": null,
   "metadata": {},
   "outputs": [],
   "source": [
    "data = df[cols].corr()\n",
    "sns.heatmap(data=data, annot=True, fmt='0.1f')# Nejaka normalizace?"
   ]
  },
  {
   "cell_type": "code",
   "execution_count": null,
   "metadata": {},
   "outputs": [],
   "source": []
  },
  {
   "cell_type": "code",
   "execution_count": null,
   "metadata": {},
   "outputs": [],
   "source": [
    "sns.distplot(df[\"Cores per Socket\"].dropna())"
   ]
  },
  {
   "cell_type": "code",
   "execution_count": null,
   "metadata": {},
   "outputs": [],
   "source": []
  },
  {
   "cell_type": "code",
   "execution_count": null,
   "metadata": {},
   "outputs": [],
   "source": []
  }
 ],
 "metadata": {
  "kernelspec": {
   "display_name": "Python 3",
   "language": "python",
   "name": "python3"
  },
  "language_info": {
   "codemirror_mode": {
    "name": "ipython",
    "version": 3
   },
   "file_extension": ".py",
   "mimetype": "text/x-python",
   "name": "python",
   "nbconvert_exporter": "python",
   "pygments_lexer": "ipython3",
   "version": "3.8.10"
  }
 },
 "nbformat": 4,
 "nbformat_minor": 4
}
