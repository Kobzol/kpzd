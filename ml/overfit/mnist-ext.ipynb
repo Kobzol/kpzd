{
 "cells": [
  {
   "cell_type": "code",
   "execution_count": null,
   "metadata": {
    "collapsed": true
   },
   "outputs": [],
   "source": [
    "import random\n",
    "import shutil\n",
    "import tensorflow as tf\n",
    "import numpy as np"
   ]
  },
  {
   "cell_type": "code",
   "execution_count": null,
   "outputs": [],
   "source": [
    "(x_train, y_train), (x_test, y_test) = tf.keras.datasets.mnist.load_data()"
   ],
   "metadata": {
    "collapsed": false
   }
  },
  {
   "cell_type": "code",
   "execution_count": null,
   "outputs": [],
   "source": [
    "x_train = (x_train / 255).astype(np.float32)\n",
    "y_train = tf.one_hot(y_train, depth=10, dtype=tf.float32)\n",
    "x_test = (x_test / 255).astype(np.float32)\n",
    "y_test = tf.one_hot(y_test, depth=10, dtype=tf.float32)"
   ],
   "metadata": {
    "collapsed": false
   }
  },
  {
   "cell_type": "code",
   "execution_count": 45,
   "outputs": [],
   "source": [
    "tf.random.set_seed(42)\n",
    "random.seed(42)\n",
    "np.random.seed(42)\n",
    "\n",
    "input = tf.keras.Input(shape=(512, 512))\n",
    "layer = tf.keras.layers.Flatten()(input)\n",
    "layer = tf.keras.layers.Dense(100, activation=tf.keras.activations.relu)(layer)\n",
    "layer = tf.keras.layers.Dropout(0.5)(layer)\n",
    "output = tf.keras.layers.Dense(10, activation=tf.keras.activations.sigmoid)(layer)"
   ],
   "metadata": {
    "collapsed": false
   }
  },
  {
   "cell_type": "code",
   "execution_count": 46,
   "outputs": [
    {
     "name": "stdout",
     "output_type": "stream",
     "text": [
      "Model: \"model_10\"\n",
      "_________________________________________________________________\n",
      " Layer (type)                Output Shape              Param #   \n",
      "=================================================================\n",
      " input_11 (InputLayer)       [(None, 512, 512)]        0         \n",
      "                                                                 \n",
      " flatten (Flatten)           (None, 262144)            0         \n",
      "                                                                 \n",
      " dense_23 (Dense)            (None, 100)               26214500  \n",
      "                                                                 \n",
      " dropout_1 (Dropout)         (None, 100)               0         \n",
      "                                                                 \n",
      " dense_24 (Dense)            (None, 10)                1010      \n",
      "                                                                 \n",
      "=================================================================\n",
      "Total params: 26,215,510\n",
      "Trainable params: 26,215,510\n",
      "Non-trainable params: 0\n",
      "_________________________________________________________________\n"
     ]
    }
   ],
   "source": [
    "model = tf.keras.Model(inputs=input, outputs=output)\n",
    "model.compile(\n",
    "    optimizer=tf.keras.optimizers.Adam(learning_rate=0.001),\n",
    "    loss=\"categorical_crossentropy\",\n",
    "    metrics=\"accuracy\"\n",
    ")\n",
    "model.summary()"
   ],
   "metadata": {
    "collapsed": false
   }
  },
  {
   "cell_type": "code",
   "execution_count": 43,
   "outputs": [],
   "source": [
    "name = \"train4\"\n",
    "callbacks = [\n",
    "    tf.keras.callbacks.TensorBoard(log_dir=f\"logs/{name}\"),\n",
    "    tf.keras.callbacks.ModelCheckpoint(\"models/{epoch:02d}-{val_loss:.2f}.hdf5\")\n",
    "]\n",
    "# shutil.rmtree(\"logs\", ignore_errors=True)"
   ],
   "metadata": {
    "collapsed": false
   }
  },
  {
   "cell_type": "code",
   "execution_count": 44,
   "outputs": [
    {
     "name": "stdout",
     "output_type": "stream",
     "text": [
      "Epoch 1/15\n",
      "938/938 [==============================] - 2s 2ms/step - loss: 0.4735 - accuracy: 0.8591 - val_loss: 0.1988 - val_accuracy: 0.9403\n",
      "Epoch 2/15\n",
      "938/938 [==============================] - 2s 2ms/step - loss: 0.2672 - accuracy: 0.9216 - val_loss: 0.1570 - val_accuracy: 0.9534\n",
      "Epoch 3/15\n",
      "938/938 [==============================] - 1s 2ms/step - loss: 0.2232 - accuracy: 0.9344 - val_loss: 0.1275 - val_accuracy: 0.9596\n",
      "Epoch 4/15\n",
      "938/938 [==============================] - 1s 2ms/step - loss: 0.2016 - accuracy: 0.9401 - val_loss: 0.1161 - val_accuracy: 0.9640\n",
      "Epoch 5/15\n",
      "938/938 [==============================] - 2s 2ms/step - loss: 0.1851 - accuracy: 0.9449 - val_loss: 0.1086 - val_accuracy: 0.9668\n",
      "Epoch 6/15\n",
      "938/938 [==============================] - 1s 2ms/step - loss: 0.1721 - accuracy: 0.9487 - val_loss: 0.1041 - val_accuracy: 0.9681\n",
      "Epoch 7/15\n",
      "938/938 [==============================] - 2s 2ms/step - loss: 0.1599 - accuracy: 0.9506 - val_loss: 0.1009 - val_accuracy: 0.9716\n",
      "Epoch 8/15\n",
      "938/938 [==============================] - 2s 2ms/step - loss: 0.1512 - accuracy: 0.9529 - val_loss: 0.0980 - val_accuracy: 0.9710\n",
      "Epoch 9/15\n",
      "938/938 [==============================] - 2s 2ms/step - loss: 0.1488 - accuracy: 0.9544 - val_loss: 0.1043 - val_accuracy: 0.9701\n",
      "Epoch 10/15\n",
      "938/938 [==============================] - 2s 2ms/step - loss: 0.1412 - accuracy: 0.9569 - val_loss: 0.0923 - val_accuracy: 0.9727\n",
      "Epoch 11/15\n",
      "938/938 [==============================] - 2s 2ms/step - loss: 0.1404 - accuracy: 0.9562 - val_loss: 0.0917 - val_accuracy: 0.9735\n",
      "Epoch 12/15\n",
      "938/938 [==============================] - 2s 2ms/step - loss: 0.1326 - accuracy: 0.9589 - val_loss: 0.0920 - val_accuracy: 0.9729\n",
      "Epoch 13/15\n",
      "938/938 [==============================] - 2s 2ms/step - loss: 0.1321 - accuracy: 0.9588 - val_loss: 0.0867 - val_accuracy: 0.9752\n",
      "Epoch 14/15\n",
      "938/938 [==============================] - 2s 2ms/step - loss: 0.1245 - accuracy: 0.9604 - val_loss: 0.0885 - val_accuracy: 0.9748\n",
      "Epoch 15/15\n",
      "938/938 [==============================] - 2s 2ms/step - loss: 0.1223 - accuracy: 0.9621 - val_loss: 0.0916 - val_accuracy: 0.9745\n"
     ]
    },
    {
     "data": {
      "text/plain": "<keras.callbacks.History at 0x7f83383d6620>"
     },
     "execution_count": 44,
     "metadata": {},
     "output_type": "execute_result"
    }
   ],
   "source": [
    "model.fit(x_train, y_train, validation_data=(x_test, y_test), batch_size=32, epochs=15,\n",
    "          callbacks=callbacks)"
   ],
   "metadata": {
    "collapsed": false
   }
  },
  {
   "cell_type": "code",
   "execution_count": null,
   "outputs": [],
   "source": [],
   "metadata": {
    "collapsed": false
   }
  }
 ],
 "metadata": {
  "kernelspec": {
   "display_name": "Python 3",
   "language": "python",
   "name": "python3"
  },
  "language_info": {
   "codemirror_mode": {
    "name": "ipython",
    "version": 2
   },
   "file_extension": ".py",
   "mimetype": "text/x-python",
   "name": "python",
   "nbconvert_exporter": "python",
   "pygments_lexer": "ipython2",
   "version": "2.7.6"
  }
 },
 "nbformat": 4,
 "nbformat_minor": 0
}
