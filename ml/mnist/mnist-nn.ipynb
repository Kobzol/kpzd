{
 "cells": [
  {
   "cell_type": "code",
   "execution_count": null,
   "metadata": {
    "collapsed": true
   },
   "outputs": [],
   "source": [
    "import tensorflow as tf\n",
    "import numpy as np\n",
    "import matplotlib.pyplot as plt\n",
    "import tqdm"
   ]
  },
  {
   "cell_type": "code",
   "execution_count": null,
   "outputs": [],
   "source": [
    "(x_train, y_train), (x_test, y_test) = tf.keras.datasets.mnist.load_data()"
   ],
   "metadata": {
    "collapsed": false
   }
  },
  {
   "cell_type": "code",
   "execution_count": null,
   "outputs": [],
   "source": [
    "# Normalize to [0.0, 1.0]\n",
    "x_train = x_train.astype(np.float32) / 255.0\n",
    "x_test = x_test.astype(np.float32) / 255.0"
   ],
   "metadata": {
    "collapsed": false
   }
  },
  {
   "cell_type": "code",
   "execution_count": null,
   "outputs": [],
   "source": [
    "# Use one-hot encoding\n",
    "y_train = tf.one_hot(y_train, depth=10, dtype=tf.float32)\n",
    "y_test = tf.one_hot(y_test, depth=10, dtype=tf.float32)"
   ],
   "metadata": {
    "collapsed": false
   }
  },
  {
   "cell_type": "code",
   "execution_count": null,
   "outputs": [],
   "source": [
    "# Draw dataset examples\n",
    "num_row = 3\n",
    "num_col = 5\n",
    "\n",
    "num = num_row*num_col\n",
    "images = x_train[:num]\n",
    "labels = y_train[:num]\n",
    "\n",
    "fig, axes = plt.subplots(num_row, num_col, figsize=(1.5*num_col,2*num_row))\n",
    "for i in range(num_row*num_col):\n",
    "    ax = axes[i//num_col, i%num_col]\n",
    "    ax.imshow(images[i], cmap='gray')\n",
    "    ax.set_title('Label: {}'.format(labels[i]))\n",
    "plt.tight_layout()\n",
    "plt.show()"
   ],
   "metadata": {
    "collapsed": false
   }
  },
  {
   "cell_type": "code",
   "execution_count": null,
   "outputs": [],
   "source": [
    "# Create neural network architecture\n",
    "input = tf.keras.layers.Input(shape=(28, 28))\n",
    "layer = tf.keras.layers.Flatten()(input)\n",
    "layer = tf.keras.layers.Dense(100, activation=tf.keras.activations.relu)(layer)\n",
    "layer = tf.keras.layers.Dense(100, activation=tf.keras.activations.relu)(layer)\n",
    "output = tf.keras.layers.Dense(10, activation=tf.keras.activations.sigmoid)(layer)"
   ],
   "metadata": {
    "collapsed": false
   }
  },
  {
   "cell_type": "code",
   "execution_count": null,
   "outputs": [],
   "source": [
    "model = tf.keras.Model(inputs=input, outputs=output)"
   ],
   "metadata": {
    "collapsed": false
   }
  },
  {
   "cell_type": "code",
   "execution_count": null,
   "outputs": [],
   "source": [
    "model.summary()"
   ],
   "metadata": {
    "collapsed": false
   }
  },
  {
   "cell_type": "code",
   "execution_count": null,
   "outputs": [],
   "source": [
    "# Training: Keras\n",
    "model.compile(\n",
    "    optimizer=tf.keras.optimizers.Adam(learning_rate=0.001),\n",
    "    loss=tf.keras.losses.CategoricalCrossentropy(),\n",
    "    metrics=tf.keras.metrics.CategoricalAccuracy()\n",
    ")"
   ],
   "metadata": {
    "collapsed": false
   }
  },
  {
   "cell_type": "code",
   "execution_count": null,
   "outputs": [],
   "source": [
    "model.fit(x_train, y_train, validation_data=(x_test, y_test), batch_size=32, epochs=100)"
   ],
   "metadata": {
    "collapsed": false
   }
  },
  {
   "cell_type": "code",
   "execution_count": null,
   "outputs": [],
   "source": [],
   "metadata": {
    "collapsed": false
   }
  },
  {
   "cell_type": "code",
   "execution_count": null,
   "outputs": [],
   "source": [],
   "metadata": {
    "collapsed": false
   }
  },
  {
   "cell_type": "code",
   "execution_count": null,
   "outputs": [],
   "source": [
    "# Training: manual\n",
    "def loss_fn(ground_truth, predicted):\n",
    "    return tf.reduce_mean(tf.square(ground_truth - predicted))\n",
    "\n",
    "optimizer = tf.keras.optimizers.Adam(learning_rate=0.001)\n",
    "\n",
    "\n",
    "#@tf.function()\n",
    "def gradient_descent(model: tf.keras.Model, input, ground_truth):\n",
    "    with tf.GradientTape() as tape:\n",
    "        predicted = model(input, training=True)\n",
    "        loss = loss_fn(ground_truth, predicted)\n",
    "        gradients = tape.gradient(loss, model.trainable_weights)\n",
    "        optimizer.apply_gradients(zip(gradients, model.trainable_weights))\n",
    "    return loss\n",
    "\n",
    "\n",
    "def iterate_batches(dataset, batch_size: int):\n",
    "    for index in range(0, len(dataset), batch_size):\n",
    "        start = index\n",
    "        end = index + batch_size\n",
    "        yield dataset[start:end]\n",
    "\n",
    "\n",
    "epochs = 100\n",
    "batch_size = 32\n",
    "dataset_size = 10000\n",
    "indices = list(range(dataset_size))\n",
    "\n",
    "for epoch in tqdm.tqdm(range(epochs)):\n",
    "    np.random.shuffle(indices)\n",
    "    x = [x_train[:dataset_size][index] for index in indices]\n",
    "    y = [y_train[:dataset_size][index] for index in indices]\n",
    "    x = iterate_batches(x, batch_size)\n",
    "    y = iterate_batches(y, batch_size)\n",
    "    print(f\"Epoch #{epoch}\")\n",
    "    for (inputs, ground_truths) in zip(x, y):\n",
    "        loss = gradient_descent(model, np.array(inputs), np.array(ground_truths))\n",
    "    print(np.mean(loss))"
   ],
   "metadata": {
    "collapsed": false
   }
  },
  {
   "cell_type": "code",
   "execution_count": null,
   "outputs": [],
   "source": [
    "# Evaluate neural network\n",
    "num_row = 3\n",
    "num_col = 5\n",
    "\n",
    "num = num_row*num_col\n",
    "images = x_test[:num]\n",
    "labels = y_test[:num]\n",
    "\n",
    "fig, axes = plt.subplots(num_row, num_col, figsize=(1.5*num_col,2*num_row))\n",
    "for i in range(num_row*num_col):\n",
    "    ax = axes[i//num_col, i%num_col]\n",
    "    ax.imshow(images[i], cmap='gray')\n",
    "    prediction = model(np.array([images[i]]))[0]\n",
    "    label = np.argmax(labels[i])\n",
    "    print(prediction)\n",
    "    prediction = np.argmax(prediction)\n",
    "    ax.set_title(f'L: {label}, P: {prediction}')\n",
    "plt.tight_layout()\n",
    "plt.show()"
   ],
   "metadata": {
    "collapsed": false
   }
  }
 ],
 "metadata": {
  "kernelspec": {
   "display_name": "Python 3",
   "language": "python",
   "name": "python3"
  },
  "language_info": {
   "codemirror_mode": {
    "name": "ipython",
    "version": 2
   },
   "file_extension": ".py",
   "mimetype": "text/x-python",
   "name": "python",
   "nbconvert_exporter": "python",
   "pygments_lexer": "ipython2",
   "version": "2.7.6"
  }
 },
 "nbformat": 4,
 "nbformat_minor": 0
}
